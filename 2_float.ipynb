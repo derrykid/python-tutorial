{
 "cells": [
  {
   "cell_type": "markdown",
   "id": "5559d73d-9d0a-45a7-96a8-659bd9be690f",
   "metadata": {},
   "source": [
    "# Python 浮點數數據類型教學\n",
    "\n",
    "## 什麼是浮點數？\n",
    "\n",
    "浮點數是一種具有小數點的數字。在 Python 中，浮點數是一種基本數據類型，這意味著它們是built-in的\n",
    "\n",
    "## 宣告和賦值浮點數\n",
    "\n",
    "要在 Python 中宣告和賦值浮點數，只需將數字賦值給變量。例如："
   ]
  },
  {
   "cell_type": "code",
   "execution_count": 1,
   "id": "5613e713-3ebe-4676-aaf0-fd9dbc685617",
   "metadata": {},
   "outputs": [],
   "source": [
    "my_float = 3.14159"
   ]
  },
  {
   "cell_type": "markdown",
   "id": "8369572b-130f-4852-989f-25734b58f843",
   "metadata": {},
   "source": [
    "這創建了一個名為 `my_float` 的變量，並將其賦值為 `3.14159`。\n",
    "\n",
    "## 浮點數的基本數學運算\n",
    "\n",
    "Python 允許使用浮點數進行基本數學運算，包括加、減、乘和除。例如：\n"
   ]
  },
  {
   "cell_type": "code",
   "execution_count": 2,
   "id": "0f04e2a7-d5b6-417f-a228-5dedab364b31",
   "metadata": {},
   "outputs": [],
   "source": [
    "a = 3.14\n",
    "b = 1.5\n",
    "c = a + b # 加法運算\n",
    "d = a - b # 減法運算\n",
    "e = a * b # 乘法運算\n",
    "f = a / b # 除法運算"
   ]
  },
  {
   "cell_type": "code",
   "execution_count": 3,
   "id": "1e9bb794-0f82-45da-9f7f-5a3ce30c5847",
   "metadata": {},
   "outputs": [
    {
     "name": "stdout",
     "output_type": "stream",
     "text": [
      "4.640000000000001\n",
      "1.6400000000000001\n",
      "4.71\n",
      "2.0933333333333333\n"
     ]
    }
   ],
   "source": [
    "print(c)\n",
    "print(d)\n",
    "print(e)\n",
    "print(f)"
   ]
  },
  {
   "cell_type": "markdown",
   "id": "dfab7a16-9e4c-462e-b59c-cd2e51096420",
   "metadata": {},
   "source": [
    "這將創建四個變量，並將它們分別賦值為加法、減法、乘法和除法運算的結果。\n",
    "\n",
    "## 浮點數的進階數學運算\n",
    "\n",
    "Python 還允許使用浮點數進行進階數學運算，包括指數。例如：\n"
   ]
  },
  {
   "cell_type": "code",
   "execution_count": 4,
   "id": "384d2b4a-97b9-4a0d-bb1b-7edd04e17d36",
   "metadata": {},
   "outputs": [
    {
     "name": "stdout",
     "output_type": "stream",
     "text": [
      "8.0\n"
     ]
    }
   ],
   "source": [
    "a = 2.0\n",
    "b = 3.0\n",
    "c = a ** b # 指數運算，2 的 3 次方\n",
    "print(c)"
   ]
  },
  {
   "cell_type": "markdown",
   "id": "bf031cdc-3101-4485-b59b-93f9943de283",
   "metadata": {},
   "source": [
    "\n",
    "這將創建一個變量 `c`，並將其賦值為指數運算的結果。\n",
    "\n",
    "## 浮點數的小數點精度問題\n",
    "\n",
    "在 Python 中，由於內部浮點數的實現方式，可能會導致小數點精度的問題。例如："
   ]
  },
  {
   "cell_type": "code",
   "execution_count": 5,
   "id": "6b48735d-a36a-48d6-b399-ce86f59359f0",
   "metadata": {},
   "outputs": [
    {
     "name": "stdout",
     "output_type": "stream",
     "text": [
      "0.30000000000000004\n"
     ]
    }
   ],
   "source": [
    "a = 0.1\n",
    "b = 0.2\n",
    "c = a + b\n",
    "print(c) # 0.30000000000000004"
   ]
  },
  {
   "cell_type": "markdown",
   "id": "6c16e0ef-9110-4992-9aac-f07e638ef72f",
   "metadata": {},
   "source": [
    "在這個例子中， `a` 和 `b` 的和應該為 `0.3`，但實際上是 `0.30000000000000004`。這是由於 Python 中浮點\n"
   ]
  },
  {
   "cell_type": "markdown",
   "id": "2b94f2e7-bf28-4bac-bb28-842cff774496",
   "metadata": {},
   "source": [
    "## 解決精度問題\n",
    "\n",
    "在計算機科學中，由於浮點數的實現方式，對於某些十進制數字（如0.1和0.2），進行浮點數加法運算可能會導致精度丟失，進而導致計算結果不正確。為了解決這個問題，可以使用 Decimal 類別來執行十進制浮點數計算，這是 Python 內置的標準庫。\n",
    "\n",
    "使用 Decimal 類別時，需要將浮點數轉換為 Decimal 對象，然後使用 Decimal 對象進行算術運算。以下是使用 Decimal 類別計算 0.1 + 0.2 的示例："
   ]
  },
  {
   "cell_type": "code",
   "execution_count": 6,
   "id": "d620a0ee-295a-402e-9dd9-aced4a4b9c77",
   "metadata": {},
   "outputs": [
    {
     "name": "stdout",
     "output_type": "stream",
     "text": [
      "0.3\n"
     ]
    }
   ],
   "source": [
    "from decimal import Decimal\n",
    "\n",
    "a = Decimal('0.1')\n",
    "b = Decimal('0.2')\n",
    "c = a + b\n",
    "print(c)  # 0.3"
   ]
  },
  {
   "cell_type": "markdown",
   "id": "5bc83ab3-6c24-4f99-8b58-b14b884a33d5",
   "metadata": {},
   "source": [
    "在這個示例中，我們首先將 0.1 和 0.2 轉換為 Decimal 對象，然後將它們相加。這將產生精確的結果 0.3，而不是浮點數運算的不精確結果 0.30000000000000004。\n",
    "\n",
    "因此，在商業財務計算等需要高精度計算的情況下，建議使用 Decimal 類別進行浮點數計算。"
   ]
  },
  {
   "cell_type": "code",
   "execution_count": null,
   "id": "3a67f9f6-f665-4ce2-8a04-57505c39610c",
   "metadata": {},
   "outputs": [],
   "source": []
  }
 ],
 "metadata": {
  "kernelspec": {
   "display_name": "Python 3 (ipykernel)",
   "language": "python",
   "name": "python3"
  },
  "language_info": {
   "codemirror_mode": {
    "name": "ipython",
    "version": 3
   },
   "file_extension": ".py",
   "mimetype": "text/x-python",
   "name": "python",
   "nbconvert_exporter": "python",
   "pygments_lexer": "ipython3",
   "version": "3.10.8"
  }
 },
 "nbformat": 4,
 "nbformat_minor": 5
}
