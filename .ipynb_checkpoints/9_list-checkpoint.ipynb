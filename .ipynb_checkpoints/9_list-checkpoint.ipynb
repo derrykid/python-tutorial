{
 "cells": [
  {
   "cell_type": "markdown",
   "id": "2cdbea0a-3bf5-4b02-b63c-ae97616c709f",
   "metadata": {},
   "source": [
    "# List\n",
    "\n",
    "在 Python 中，List 是一種用於存儲有序項目的集合。List 中的項目可以是不同類型的，例如數字、字符串、布林值、函數等等。List 用方括號 `[]` 表示，每個項目之間用逗號分隔。\n",
    "\n",
    "以下是一些 List 的基本操作："
   ]
  },
  {
   "cell_type": "code",
   "execution_count": 2,
   "id": "1e9bc7e9-4716-4a29-8eee-f08a4363b84f",
   "metadata": {},
   "outputs": [],
   "source": [
    "fruits = [\"apple\", \"banana\", \"cherry\"]"
   ]
  },
  {
   "cell_type": "markdown",
   "id": "ecefd3dc-2de2-45d3-a414-db21da99f65f",
   "metadata": {},
   "source": [
    "## 訪問 List 中的項目\n",
    "可以通過索引來訪問 List 中的項目。Python 中的索引從 0 開始。例如，要訪問 List 中的第一個項目，可以使用索引 0："
   ]
  },
  {
   "cell_type": "code",
   "execution_count": 3,
   "id": "38e188e8-b425-4bc1-a0f5-04507d27ab8e",
   "metadata": {},
   "outputs": [
    {
     "name": "stdout",
     "output_type": "stream",
     "text": [
      "apple\n",
      "cherry\n"
     ]
    }
   ],
   "source": [
    "print(fruits[0])\n",
    "print(fruits[2])"
   ]
  },
  {
   "cell_type": "markdown",
   "id": "41161ea5-04a7-43df-9e05-9e9db8f4c8fd",
   "metadata": {},
   "source": [
    "## 修改 List 中的項目\n",
    "\n",
    "可以通過索引來修改 List 中的項目"
   ]
  },
  {
   "cell_type": "code",
   "execution_count": 4,
   "id": "85045308-bb0c-4843-8a35-45445a68c4a5",
   "metadata": {},
   "outputs": [
    {
     "name": "stdout",
     "output_type": "stream",
     "text": [
      "['orange', 'banana', 'cherry']\n"
     ]
    }
   ],
   "source": [
    "fruits = [\"apple\", \"banana\", \"cherry\"]\n",
    "fruits[0] = \"orange\"\n",
    "print(fruits)"
   ]
  },
  {
   "cell_type": "markdown",
   "id": "31f35e8c-3278-4f70-bdea-92fcde22e5d3",
   "metadata": {},
   "source": [
    "## 檢查 List 中是否存在特定的項目\n",
    "\n",
    "可以使用 in 關鍵字檢查 List 中是否存在特定的項目。例如，要檢查 \"apple\" 是否存在於 List 中，可以使用以下代碼："
   ]
  },
  {
   "cell_type": "code",
   "execution_count": 5,
   "id": "9df156b3-3eb5-4384-9fd3-f99e02271b76",
   "metadata": {},
   "outputs": [
    {
     "name": "stdout",
     "output_type": "stream",
     "text": [
      "Yes, apple is in the fruits list\n"
     ]
    }
   ],
   "source": [
    "fruits = [\"apple\", \"banana\", \"cherry\"]\n",
    "if \"apple\" in fruits:\n",
    "    print(\"Yes, apple is in the fruits list\")"
   ]
  },
  {
   "cell_type": "markdown",
   "id": "0a2c5ea5-2996-4ef6-92e3-8ec4d24f8312",
   "metadata": {},
   "source": [
    "## 有多少東西在list 裡面？  用 `len()`"
   ]
  },
  {
   "cell_type": "code",
   "execution_count": 6,
   "id": "c8c53a31-20c9-44a8-92a9-c41d72d23bde",
   "metadata": {},
   "outputs": [
    {
     "name": "stdout",
     "output_type": "stream",
     "text": [
      "3\n"
     ]
    }
   ],
   "source": [
    "fruits = [\"apple\", \"banana\", \"cherry\"]\n",
    "print(len(fruits))"
   ]
  },
  {
   "cell_type": "markdown",
   "id": "4dcdeb72-3830-4e18-9f05-74f84b0cb7ff",
   "metadata": {},
   "source": [
    "## 用 for loop 照順序使用裡面每一個內容"
   ]
  },
  {
   "cell_type": "code",
   "execution_count": 7,
   "id": "78b018aa-eaa2-47c6-9721-e6e541b12aef",
   "metadata": {},
   "outputs": [
    {
     "name": "stdout",
     "output_type": "stream",
     "text": [
      "apple\n",
      "banana\n",
      "cherry\n"
     ]
    }
   ],
   "source": [
    "fruits = [\"apple\", \"banana\", \"cherry\"]\n",
    "\n",
    "for fruit in fruits:\n",
    "    print(fruit)"
   ]
  },
  {
   "cell_type": "markdown",
   "id": "2ef9c46c-ec11-4661-92b2-14461fab3a5c",
   "metadata": {},
   "source": [
    "## 練習 Exercise\n",
    "\n",
    "現在你會了 for loop, if 條件, 還有list。你已經可以開始做很多複雜的操作了！"
   ]
  },
  {
   "cell_type": "markdown",
   "id": "0ae0bb85-3740-4abb-aaf8-c1857ac6f2bb",
   "metadata": {},
   "source": [
    "我這裏有一個 list, 裡面存的是三年二班學生們的成績，請你算一算，究竟有多少學生不及格？及格的學生，平均是多少？\n",
    "\n",
    "- 及格分數是 60\n",
    "\n",
    "例子：某班有5個學生，分數是：53, 67, 88, 93, 42。你的程式運行結果為2個學生不及格：及格學生的平均分是:`(67+88+94)/3` = 83"
   ]
  },
  {
   "cell_type": "code",
   "execution_count": 10,
   "id": "47407aa8-c81e-4aed-aaa9-23570da7820f",
   "metadata": {},
   "outputs": [],
   "source": [
    "# 學生的分數\n",
    "score = [31, 44, 76, 50, 63, 41, 56, 36, 92, 63, 87, 10, 48, 12, 17, 100, 46, 65, 69, 24, 96, 56, 92, 53, 71, 73, 100, 35, 45, 98, 10, 37]\n",
    "\n",
    "###\n",
    "### 你的程式\n",
    "###"
   ]
  },
  {
   "cell_type": "markdown",
   "id": "3ac943b6-95d4-43c8-85b1-9b15ca509165",
   "metadata": {},
   "source": [
    "我的做法，可以作為參考"
   ]
  },
  {
   "cell_type": "code",
   "execution_count": 15,
   "id": "932d3fdd-6839-4039-a293-6ec3181416e7",
   "metadata": {},
   "outputs": [
    {
     "name": "stdout",
     "output_type": "stream",
     "text": [
      "32\n",
      "18\n",
      "81.78571428571429\n"
     ]
    }
   ],
   "source": [
    "count_less_equal_60 = 0\n",
    "sum = 0\n",
    "for each in score:\n",
    "    if each < 60:\n",
    "        count_less_equal_60 = count_less_equal_60 + 1\n",
    "    else:\n",
    "        sum = sum + each\n",
    "        \n",
    "# 總學生人數\n",
    "print(len(score))\n",
    "\n",
    "# 不及格人數\n",
    "print(count_less_equal_60)\n",
    "\n",
    "# 及格人數就是總人數減去不及格人數\n",
    "student_over_60 =  len(score) - count_less_equal_60\n",
    "        \n",
    "# 及格學生的平均分數    \n",
    "print(sum / student_over_60)"
   ]
  }
 ],
 "metadata": {
  "kernelspec": {
   "display_name": "Python 3 (ipykernel)",
   "language": "python",
   "name": "python3"
  },
  "language_info": {
   "codemirror_mode": {
    "name": "ipython",
    "version": 3
   },
   "file_extension": ".py",
   "mimetype": "text/x-python",
   "name": "python",
   "nbconvert_exporter": "python",
   "pygments_lexer": "ipython3",
   "version": "3.10.8"
  }
 },
 "nbformat": 4,
 "nbformat_minor": 5
}
