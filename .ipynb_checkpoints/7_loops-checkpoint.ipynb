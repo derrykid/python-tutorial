{
 "cells": [
  {
   "cell_type": "markdown",
   "id": "e3cca2ba-b787-4dd1-87db-91138562b5df",
   "metadata": {},
   "source": [
    "# Loop\n",
    "\n",
    "在 Python 中，循環用於重複執行一段代碼，直到滿足特定條件為止。Python 提供了兩種類型的循環：for 循環和 while 循環。在本筆記本中，我們將介紹如何使用這兩種循環。"
   ]
  },
  {
   "cell_type": "markdown",
   "id": "6bd51d43-31b4-4180-82ae-11cfc974de5f",
   "metadata": {},
   "source": [
    "## for loop\n",
    "\n",
    "```python\n",
    "for variable in sequence:\n",
    "    # 循環體\n",
    "```"
   ]
  },
  {
   "cell_type": "code",
   "execution_count": 2,
   "id": "31320cb1-843d-49f8-95a4-705b2e43cd50",
   "metadata": {},
   "outputs": [
    {
     "name": "stdout",
     "output_type": "stream",
     "text": [
      "apple\n",
      "banana\n",
      "cherry\n"
     ]
    }
   ],
   "source": [
    "fruits = [\"apple\", \"banana\", \"cherry\"]\n",
    "for fruit in fruits:\n",
    "    print(fruit)"
   ]
  },
  {
   "cell_type": "markdown",
   "id": "6d6e7366-f7c7-4c28-a1b8-ca0d6040d6de",
   "metadata": {},
   "source": [
    "---\n",
    "或是數字"
   ]
  },
  {
   "cell_type": "code",
   "execution_count": 6,
   "id": "ac1afc6a-c934-40df-bd72-3f837e7c2884",
   "metadata": {},
   "outputs": [
    {
     "name": "stdout",
     "output_type": "stream",
     "text": [
      "0\n",
      "1\n",
      "2\n",
      "3\n",
      "4\n"
     ]
    }
   ],
   "source": [
    "for i in range(5):\n",
    "    print(i)"
   ]
  },
  {
   "cell_type": "markdown",
   "id": "9ad99c71-8263-433b-a30e-427650e27458",
   "metadata": {},
   "source": [
    "## while loop\n",
    "\n",
    "```python\n",
    "while condition:\n",
    "    # 循環體\n",
    "```"
   ]
  },
  {
   "cell_type": "code",
   "execution_count": 4,
   "id": "4a9a9636-79f8-4be0-99f6-7ae8d0e345e8",
   "metadata": {},
   "outputs": [
    {
     "name": "stdout",
     "output_type": "stream",
     "text": [
      "1 到 10 的總和是 55\n"
     ]
    }
   ],
   "source": [
    "n = 10\n",
    "sum = 0\n",
    "i = 1\n",
    "\n",
    "while i <= n:\n",
    "    sum += i\n",
    "    i += 1\n",
    "\n",
    "print(\"1 到 %d 的總和是 %d\" % (n, sum))"
   ]
  },
  {
   "cell_type": "code",
   "execution_count": 5,
   "id": "34b7b1e8-7394-42a9-9b09-4fe65f80488a",
   "metadata": {},
   "outputs": [
    {
     "name": "stdout",
     "output_type": "stream",
     "text": [
      "apple\n",
      "banana\n",
      "cherry\n"
     ]
    }
   ],
   "source": [
    "fruits = [\"apple\", \"banana\", \"cherry\"]\n",
    "i = 0\n",
    "\n",
    "while i < len(fruits):\n",
    "    print(fruits[i])\n",
    "    i += 1"
   ]
  },
  {
   "cell_type": "code",
   "execution_count": null,
   "id": "adc381a8-11a7-4d8c-ba6b-58068bd78550",
   "metadata": {},
   "outputs": [],
   "source": []
  }
 ],
 "metadata": {
  "kernelspec": {
   "display_name": "Python 3 (ipykernel)",
   "language": "python",
   "name": "python3"
  },
  "language_info": {
   "codemirror_mode": {
    "name": "ipython",
    "version": 3
   },
   "file_extension": ".py",
   "mimetype": "text/x-python",
   "name": "python",
   "nbconvert_exporter": "python",
   "pygments_lexer": "ipython3",
   "version": "3.10.8"
  }
 },
 "nbformat": 4,
 "nbformat_minor": 5
}
