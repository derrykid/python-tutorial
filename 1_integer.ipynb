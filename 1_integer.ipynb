{
 "cells": [
  {
   "cell_type": "markdown",
   "id": "de94f095-43e8-42ae-8a6e-5a8f324ca609",
   "metadata": {},
   "source": [
    "# Python 整數 Integer (int) 數據類型教學\n",
    "\n",
    "## 什麼是整數？\n",
    "\n",
    "整數是一個沒有小數點的整數。在 Python 中，整數是一種基本數據類型，這意味著它們是內置的，不需要任何特殊的庫或模塊來使用。\n",
    "\n",
    "## 宣告和賦值整數\n",
    "\n",
    "要在 Python 中宣告和賦值整數，只需將數字賦值給變量。例如："
   ]
  },
  {
   "cell_type": "code",
   "execution_count": 1,
   "id": "71745977-8628-4e64-bd09-127e849daf8b",
   "metadata": {},
   "outputs": [],
   "source": [
    "my_int = 10"
   ]
  },
  {
   "cell_type": "markdown",
   "id": "3183d078-7e1b-4179-af52-a4fc626a1f82",
   "metadata": {},
   "source": [
    "這創建了一個名為 `my_int` 的變量，並將其賦值為 `10`。\n",
    "\n",
    "## 整數的基本數學運算\n",
    "\n",
    "Python 允許使用整數進行基本數學運算，包括加、減、乘和除。例如："
   ]
  },
  {
   "cell_type": "code",
   "execution_count": 2,
   "id": "429fbb62-f067-42a6-9686-668d0e62c80f",
   "metadata": {},
   "outputs": [],
   "source": [
    "a = 10\n",
    "b = 5\n",
    "c = a + b # 加法運算\n",
    "d = a - b # 減法運算\n",
    "e = a * b # 乘法運算\n",
    "f = a / b # 除法運算"
   ]
  },
  {
   "cell_type": "code",
   "execution_count": 3,
   "id": "fabe4b0b-a968-47f1-8e87-ea0911866dec",
   "metadata": {},
   "outputs": [
    {
     "name": "stdout",
     "output_type": "stream",
     "text": [
      "15\n",
      "5\n",
      "50\n",
      "2.0\n"
     ]
    }
   ],
   "source": [
    "print(c)\n",
    "print(d)\n",
    "print(e)\n",
    "print(f)"
   ]
  },
  {
   "cell_type": "markdown",
   "id": "0e9749cd-eae4-4c7b-b1ef-39240b4bc8be",
   "metadata": {},
   "source": [
    "這將創建四個變量，並將它們分別賦值為加法、減法、乘法和除法運算的結果。\n",
    "\n",
    "## 整數的進階數學運算\n",
    "\n",
    "Python 還允許使用整數進行進階數學運算，包括指數、取餘和取整除。例如："
   ]
  },
  {
   "cell_type": "code",
   "execution_count": 4,
   "id": "6c1b5f2a-37d9-41c7-a673-44be8b1c1be9",
   "metadata": {},
   "outputs": [],
   "source": [
    "a = 10\n",
    "b = 3\n",
    "c = a ** b # 指數運算，10 的 3 次方\n",
    "d = a % b # 取餘運算，10 除以 3 的餘數\n",
    "e = a // b # 取整除運算，10 除以 3 的整數商"
   ]
  },
  {
   "cell_type": "markdown",
   "id": "10843508-c153-4455-b7ce-575d73048219",
   "metadata": {},
   "source": [
    "\n",
    "這將創建三個變量，並將它們分別賦值為指數、取餘和取整除運算的結果。\n",
    "\n",
    "## 整數的限制\n",
    "\n",
    "Python 整數的大小是有限制的。\n",
    "\n",
    "在 32 位系統上，整數的大小範圍為 -2,147,483,648 到 2,147,483,647，而在 64 位系統上，整數的大小範圍為 -9,223,372,036,854,775,808 到 9,223,372,036,854,775,807。如果需要使用更大的整數，"
   ]
  },
  {
   "cell_type": "code",
   "execution_count": null,
   "id": "35177ddc-d57c-4822-847e-8ded1fbf0b10",
   "metadata": {},
   "outputs": [],
   "source": []
  }
 ],
 "metadata": {
  "kernelspec": {
   "display_name": "Python 3 (ipykernel)",
   "language": "python",
   "name": "python3"
  },
  "language_info": {
   "codemirror_mode": {
    "name": "ipython",
    "version": 3
   },
   "file_extension": ".py",
   "mimetype": "text/x-python",
   "name": "python",
   "nbconvert_exporter": "python",
   "pygments_lexer": "ipython3",
   "version": "3.10.8"
  }
 },
 "nbformat": 4,
 "nbformat_minor": 5
}
