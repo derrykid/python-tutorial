{
 "cells": [
  {
   "cell_type": "markdown",
   "id": "5bd05748-0e28-48fb-8064-6825dbcf06b1",
   "metadata": {},
   "source": [
    "# print\n",
    "\n",
    "to print, you need to use `print()`\n",
    "\n",
    "You can use sigle quote or double qoute:\n",
    "- print(\"HI\")\n",
    "- print('HI')"
   ]
  },
  {
   "cell_type": "code",
   "execution_count": 1,
   "id": "53db8e30-c9f2-48f8-9807-426c7aeaf3b2",
   "metadata": {},
   "outputs": [
    {
     "name": "stdout",
     "output_type": "stream",
     "text": [
      "Hello World\n",
      "Hello World\n"
     ]
    }
   ],
   "source": [
    "print(\"Hello World\")\n",
    "print('Hello World')"
   ]
  },
  {
   "cell_type": "markdown",
   "id": "6213fccb-78c6-40da-bd89-5e19dacc2e5f",
   "metadata": {},
   "source": [
    "You can also print new line with `\\n`"
   ]
  },
  {
   "cell_type": "code",
   "execution_count": 3,
   "id": "22651d35-e715-4b8a-ab55-aa7db2bd0255",
   "metadata": {},
   "outputs": [
    {
     "name": "stdout",
     "output_type": "stream",
     "text": [
      "Hi, \n",
      " cool!\n"
     ]
    }
   ],
   "source": [
    "print (\"Hi, \\n cool!\")"
   ]
  },
  {
   "cell_type": "code",
   "execution_count": 8,
   "id": "746a2838-dcc6-45d6-95b8-ff809c49d1a7",
   "metadata": {},
   "outputs": [
    {
     "name": "stdout",
     "output_type": "stream",
     "text": [
      "Hello , World !\n"
     ]
    }
   ],
   "source": [
    "print('Hello',',', 'World','!') # 或是一次丢很多东西一次印"
   ]
  },
  {
   "cell_type": "markdown",
   "id": "b7fd932f-9df2-4746-af2e-13788c9660ec",
   "metadata": {},
   "source": [
    "Print same thing 5 times:"
   ]
  },
  {
   "cell_type": "code",
   "execution_count": 4,
   "id": "801c1d73-0595-4388-a166-2265a66b947d",
   "metadata": {},
   "outputs": [
    {
     "name": "stdout",
     "output_type": "stream",
     "text": [
      "YoYoYoYoYo\n"
     ]
    }
   ],
   "source": [
    "print(5 * \"Yo\")"
   ]
  },
  {
   "cell_type": "markdown",
   "id": "c9a364a9-7d25-490a-82f3-ae765acae534",
   "metadata": {},
   "source": [
    "## Practice\n",
    "\n",
    "请练习印出  \"Haha! 我会变成最强的\""
   ]
  },
  {
   "cell_type": "markdown",
   "id": "a0105e04-6bbc-44aa-ab81-ab2126adb45a",
   "metadata": {},
   "source": [
    "# Variable 变数\n",
    "\n",
    "变数可用来储存资料，number, string, etc\n",
    "\n",
    "例如："
   ]
  },
  {
   "cell_type": "code",
   "execution_count": 5,
   "id": "5c57d3e9-53e3-4058-a03c-fdf1f4eee84d",
   "metadata": {},
   "outputs": [
    {
     "name": "stdout",
     "output_type": "stream",
     "text": [
      "33\n"
     ]
    }
   ],
   "source": [
    "a = 10\n",
    "b = 23\n",
    "\n",
    "print(a + b)"
   ]
  },
  {
   "cell_type": "markdown",
   "id": "501a5948-a527-4ef8-a198-5cbca4a5d109",
   "metadata": {},
   "source": [
    "或是用来储存字串："
   ]
  },
  {
   "cell_type": "code",
   "execution_count": 7,
   "id": "01682904-21a3-4884-8182-2e8e294dfa4d",
   "metadata": {},
   "outputs": [
    {
     "name": "stdout",
     "output_type": "stream",
     "text": [
      "真是有趣！\n"
     ]
    }
   ],
   "source": [
    "c = \"真是有趣！\"\n",
    "\n",
    "print(c)"
   ]
  },
  {
   "cell_type": "markdown",
   "id": "4db518d9-beeb-482a-9f5b-55dd96192e33",
   "metadata": {},
   "source": [
    "## 变数命名规则\n",
    "\n",
    "Python Variable Name Rules\n",
    "\n",
    "- A variable name must start with a **letter** **`A`**-**`z`** or the **underscore** **`_`** character\n",
    "- A variable name cannot start with a **number** **`0`**-**`9`**\n",
    "- A variable name can only contain alpha-numeric characters and underscores (**`A`**-**`z`**, **`0`**-**`9`**, and **`_`** )\n",
    "- Variable names are case-sensitive (**`firstname`**, **`Firstname`**, **`FirstName`** and **`FIRSTNAME`**) are different variables). It is recomended to use lowercase letters for variable name."
   ]
  },
  {
   "cell_type": "markdown",
   "id": "4f14fe06-6ce8-4f19-aca8-4d99aa5c5190",
   "metadata": {},
   "source": [
    "合乎命名规则的：\n",
    "\n",
    "```python\n",
    "firstname\n",
    "lastname\n",
    "age\n",
    "country\n",
    "city\n",
    "first_name\n",
    "last_name\n",
    "capital_city\n",
    "_if          # if we want to use reserved word as a variable\n",
    "year_2021\n",
    "year2021\n",
    "current_year_2021\n",
    "birth_year\n",
    "num1\n",
    "num2\n",
    "```\n",
    "\n",
    "违反命名规则：\n",
    "\n",
    "```python\n",
    "first-name\n",
    "first@name\n",
    "first$name\n",
    "num-1\n",
    "1num\n",
    "```"
   ]
  },
  {
   "cell_type": "code",
   "execution_count": 10,
   "id": "7edb13a2-55ce-47d3-a33d-e26e7c14251f",
   "metadata": {},
   "outputs": [],
   "source": [
    "# assign value to variable:\n",
    "\n",
    "first_name = 'John'\n",
    "last_name = 'Wick'\n",
    "country = 'England'\n",
    "city = 'London'\n",
    "age = 43"
   ]
  },
  {
   "cell_type": "code",
   "execution_count": 11,
   "id": "ee7a1880-0758-4f71-a0ee-d970ba7c6d8e",
   "metadata": {},
   "outputs": [
    {
     "name": "stdout",
     "output_type": "stream",
     "text": [
      "John Wick\n"
     ]
    }
   ],
   "source": [
    "# so you can simply print:\n",
    "\n",
    "print(first_name + \" \" +last_name)"
   ]
  },
  {
   "cell_type": "markdown",
   "id": "a7362e11-5ca9-4e8d-9970-728dcf4b7657",
   "metadata": {},
   "source": [
    "## Exercise\n",
    "\n",
    "Please create 3 variable, `bank`, `money`, `address`\n",
    "- bank 给予值 \"New York Bank\"\n",
    "- money 给予值 1000\n",
    "- address 给予值 \"Oak road, NY, US\"\n",
    "\n",
    "并运行下列的代码块：\n",
    "结果会印出\n",
    "\"Save 1000, at New York Bank, Oak road, NY, US\""
   ]
  },
  {
   "cell_type": "code",
   "execution_count": 16,
   "id": "08de4b84-69b9-4dd1-a225-14181be0afcf",
   "metadata": {},
   "outputs": [],
   "source": [
    "# 请在这裡创造三个变数\n",
    "\n",
    "# 变数1\n",
    "# 变数2\n",
    "# 变数3\n",
    "\n",
    "# 宣告后运行下列的代码："
   ]
  },
  {
   "cell_type": "code",
   "execution_count": 14,
   "id": "a5804477-a705-4a1b-a04b-961d11dc9ffe",
   "metadata": {},
   "outputs": [
    {
     "name": "stdout",
     "output_type": "stream",
     "text": [
      "Save 1000, at New York Bank, Oak, US\n"
     ]
    }
   ],
   "source": [
    "print(\"Save \" + str(money) + \", at \" + bank + \", \" + address)"
   ]
  },
  {
   "cell_type": "markdown",
   "id": "9e984204-ada7-4469-aabc-590d00fc64dd",
   "metadata": {},
   "source": [
    "# 总结\n",
    "\n",
    "变数是所有编程的基础，所有事情都是建立在变数之上，最基本中的基本。\n",
    "\n",
    "你可以使用变数储存任何东西，进行运算，或是储存资料、网址。从读取资料到处理。\n",
    "\n",
    "以seo来说，你可以把关键词存在变数裡面，然后进行以下的编排："
   ]
  },
  {
   "cell_type": "code",
   "execution_count": 19,
   "id": "d725b9e1-dbdf-484f-8757-294a0e019e81",
   "metadata": {},
   "outputs": [
    {
     "name": "stdout",
     "output_type": "stream",
     "text": [
      "https://www.baidu.com/s?wd=qq棋牌\n",
      "https://www.baidu.com/s?wd=腾讯棋牌\n",
      "https://www.baidu.com/s?wd=开元棋牌\n"
     ]
    }
   ],
   "source": [
    "kw1 = \"qq棋牌\"\n",
    "kw2 = \"腾讯棋牌\"\n",
    "kw3 = \"开元棋牌\"\n",
    "\n",
    "baidu = \"https://www.baidu.com/s?wd=\"\n",
    "\n",
    "print(baidu + kw1)\n",
    "print(baidu + kw2)\n",
    "print(baidu + kw3)"
   ]
  },
  {
   "cell_type": "markdown",
   "id": "133c5ef2-a718-413b-8ad1-bd432a2062ed",
   "metadata": {},
   "source": [
    "你就可以点这些链接，或是用python 做资料处理"
   ]
  },
  {
   "cell_type": "code",
   "execution_count": null,
   "id": "412d5ee7-4e17-4fd4-9d70-46b1c03e5bc2",
   "metadata": {},
   "outputs": [],
   "source": []
  }
 ],
 "metadata": {
  "kernelspec": {
   "display_name": "Python 3 (ipykernel)",
   "language": "python",
   "name": "python3"
  },
  "language_info": {
   "codemirror_mode": {
    "name": "ipython",
    "version": 3
   },
   "file_extension": ".py",
   "mimetype": "text/x-python",
   "name": "python",
   "nbconvert_exporter": "python",
   "pygments_lexer": "ipython3",
   "version": "3.10.8"
  }
 },
 "nbformat": 4,
 "nbformat_minor": 5
}
