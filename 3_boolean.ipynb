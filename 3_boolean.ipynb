{
 "cells": [
  {
   "cell_type": "markdown",
   "id": "ee6e62cf-fdaa-45db-80a3-5d52ceef38e9",
   "metadata": {},
   "source": [
    "# 布林類型\n",
    "在 Python 中，布林類型 (boolean) 只有兩個值：True 和 False。這兩個值是關鍵字，不能用來作為變數名稱。\n",
    "\n",
    "## 布林運算符\n",
    "Python 提供了幾個運算符，可以用來對布林值進行操作：\n",
    "\n",
    "## and 運算符\n",
    "當兩個操作數都為 True 時，and 運算符才會返回 True，否則返回 False。"
   ]
  },
  {
   "cell_type": "code",
   "execution_count": 1,
   "id": "87a82258-7279-4867-bda2-f4401936fe54",
   "metadata": {},
   "outputs": [
    {
     "name": "stdout",
     "output_type": "stream",
     "text": [
      "True\n",
      "False\n",
      "False\n"
     ]
    }
   ],
   "source": [
    "print(True and True)   # True\n",
    "print(True and False)  # False\n",
    "print(False and False) # False"
   ]
  },
  {
   "cell_type": "markdown",
   "id": "db5e2b55-8d03-447a-97a5-12a0904b585c",
   "metadata": {},
   "source": [
    "## or 運算符\n",
    "\n",
    "當兩個操作數中至少有一個為 True 時，or 運算符才會返回 True，否則返回 False。"
   ]
  },
  {
   "cell_type": "code",
   "execution_count": 2,
   "id": "953a4545-d03b-4835-84e0-307a46bafae3",
   "metadata": {},
   "outputs": [
    {
     "name": "stdout",
     "output_type": "stream",
     "text": [
      "True\n",
      "True\n",
      "False\n"
     ]
    }
   ],
   "source": [
    "print(True or True)    # True\n",
    "print(True or False)   # True\n",
    "print(False or False)  # False"
   ]
  },
  {
   "cell_type": "markdown",
   "id": "6b9fd352-09e9-4f27-a327-7482e5b772fd",
   "metadata": {},
   "source": [
    "## not 運算符\n",
    "not 運算符可以將一個布林值反轉，即 True 變成 False，False 變成 True。"
   ]
  },
  {
   "cell_type": "code",
   "execution_count": 3,
   "id": "0b7ed960-218e-4fae-af23-f3a39c8d84fa",
   "metadata": {},
   "outputs": [
    {
     "name": "stdout",
     "output_type": "stream",
     "text": [
      "False\n",
      "True\n"
     ]
    }
   ],
   "source": [
    "print(not True)  # False\n",
    "print(not False) # True"
   ]
  },
  {
   "cell_type": "markdown",
   "id": "56efe152-6bfd-4153-b93e-cf48858a6cd4",
   "metadata": {},
   "source": [
    "## 布林值的比較\n",
    "除了 True 和 False 這兩個布林值之外，我們還可以用比較運算符來比較兩個值的大小關係，並得到一個布林值。比較運算符包括：\n",
    "\n",
    "- `==`：等於\n",
    "- `!=`：不等於\n",
    "- `>`：大於\n",
    "- `<`：小於\n",
    "- `>=`：大於等於\n",
    "- `<=`：小於等於"
   ]
  },
  {
   "cell_type": "code",
   "execution_count": 4,
   "id": "7e8bb81c-6bf1-42e0-9294-84478bef1dc1",
   "metadata": {},
   "outputs": [
    {
     "name": "stdout",
     "output_type": "stream",
     "text": [
      "True\n",
      "True\n",
      "True\n",
      "True\n",
      "True\n",
      "True\n"
     ]
    }
   ],
   "source": [
    "print(1 == 1)    # True\n",
    "print(1 != 2)    # True\n",
    "print(2 > 1)     # True\n",
    "print(1 < 2)     # True\n",
    "print(2 >= 2)    # True\n",
    "print(1 <= 2)    # True"
   ]
  },
  {
   "cell_type": "markdown",
   "id": "622532eb-08b9-4d79-82a2-6b5fb4c05c1c",
   "metadata": {},
   "source": [
    "# 布林值的轉換\n",
    "有時候我們需要將其他類型的值轉換為布林值，可以使用 bool() 函數來實現。bool() 函數的參數可以是任何類型的值，返回值是對應的布林值。"
   ]
  },
  {
   "cell_type": "code",
   "execution_count": 5,
   "id": "6509e99a-3894-4457-8fcc-0b6b21ab73d2",
   "metadata": {},
   "outputs": [
    {
     "name": "stdout",
     "output_type": "stream",
     "text": [
      "False\n",
      "True\n",
      "False\n",
      "True\n",
      "False\n",
      "True\n"
     ]
    }
   ],
   "source": [
    "print(bool(0))      # False\n",
    "print(bool(1))      # True\n",
    "print(bool(\"\"))     # False\n",
    "print(bool(\"abc\"))  # True\n",
    "print(bool([]))     # False\n",
    "print(bool([1,2])) # True"
   ]
  },
  {
   "cell_type": "markdown",
   "id": "c2282e74-9866-4c3f-9a34-4a69246bc838",
   "metadata": {},
   "source": [
    "這是動態語言能實現的，靜態語言例如 Java, C++, 這些都會報錯。"
   ]
  },
  {
   "cell_type": "code",
   "execution_count": null,
   "id": "4ff25fe6-5625-4661-82e9-2083987d2035",
   "metadata": {},
   "outputs": [],
   "source": []
  }
 ],
 "metadata": {
  "kernelspec": {
   "display_name": "Python 3 (ipykernel)",
   "language": "python",
   "name": "python3"
  },
  "language_info": {
   "codemirror_mode": {
    "name": "ipython",
    "version": 3
   },
   "file_extension": ".py",
   "mimetype": "text/x-python",
   "name": "python",
   "nbconvert_exporter": "python",
   "pygments_lexer": "ipython3",
   "version": "3.10.8"
  }
 },
 "nbformat": 4,
 "nbformat_minor": 5
}
