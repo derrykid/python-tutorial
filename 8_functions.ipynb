{
 "cells": [
  {
   "cell_type": "markdown",
   "id": "5a5d1e29-4601-4bd8-96e7-15f726ce619c",
   "metadata": {},
   "source": [
    "# function 函式/函數\n",
    "\n",
    "Python 中，函數是一種可重複使用的程式碼塊，用於執行特定的任務。Python 中定義函數的語法如下："
   ]
  },
  {
   "cell_type": "code",
   "execution_count": 1,
   "id": "368ca7b2-5831-4b52-bc34-4d1132a6e717",
   "metadata": {},
   "outputs": [],
   "source": [
    "def function_name(parameters):\n",
    "    # 函數體\n",
    "    return value"
   ]
  },
  {
   "cell_type": "markdown",
   "id": "165ee83b-8f3d-4346-8d94-e63690be5918",
   "metadata": {},
   "source": [
    "其中，function_name 是函數的名稱，parameters是函數的參數。\n",
    "\n",
    "函數的參數是可選的，如果函數沒有參數，則可以省略參數列表的括號。\n",
    "\n",
    "函數體是一個代碼塊，用於執行特定的任務。函數可以返回，也可以不返回值。如果函數不返回任何值，則可以省略 return 關鍵字。"
   ]
  },
  {
   "cell_type": "markdown",
   "id": "6600ac90-dde0-413b-9d0c-2f3627812060",
   "metadata": {},
   "source": [
    "## Example"
   ]
  },
  {
   "cell_type": "markdown",
   "id": "d86d1ddf-7010-4d96-bcf0-486ec3508bad",
   "metadata": {},
   "source": [
    "沒有返回值的函數"
   ]
  },
  {
   "cell_type": "code",
   "execution_count": 2,
   "id": "a3ab471a-0c34-438c-ab16-63f2753f5de7",
   "metadata": {},
   "outputs": [
    {
     "name": "stdout",
     "output_type": "stream",
     "text": [
      "Hello, Alice!\n",
      "Hello, Bob!\n"
     ]
    }
   ],
   "source": [
    "def greet(name):\n",
    "    print(\"Hello, \" + name + \"!\")\n",
    "\n",
    "greet(\"Alice\")\n",
    "greet(\"Bob\")"
   ]
  },
  {
   "cell_type": "markdown",
   "id": "3d308d8f-fe21-4291-a3b2-cf5b1a750deb",
   "metadata": {},
   "source": [
    "有返回值的函數"
   ]
  },
  {
   "cell_type": "code",
   "execution_count": 4,
   "id": "a9fdc5da-5b5e-481f-9cac-7e28f079e72f",
   "metadata": {},
   "outputs": [
    {
     "name": "stdout",
     "output_type": "stream",
     "text": [
      "9\n"
     ]
    }
   ],
   "source": [
    "def square(x):\n",
    "    return x ** 2\n",
    "\n",
    "result = square(3)\n",
    "print(result)"
   ]
  },
  {
   "cell_type": "markdown",
   "id": "68fedb60-8a95-4a9a-a1d3-38cea61d7656",
   "metadata": {},
   "source": [
    "## Exercise\n",
    "\n",
    "寫一個函式，輸入字串A跟字串B，回傳字串為兩個字串中間多三個`|`\n",
    "\n",
    "例如：`add_pipes('A', 'B')` 回傳字串為 `A ||| B`"
   ]
  },
  {
   "cell_type": "code",
   "execution_count": null,
   "id": "b9b42ec1-a904-41c3-809b-f0d380e5aea6",
   "metadata": {},
   "outputs": [],
   "source": []
  }
 ],
 "metadata": {
  "kernelspec": {
   "display_name": "Python 3 (ipykernel)",
   "language": "python",
   "name": "python3"
  },
  "language_info": {
   "codemirror_mode": {
    "name": "ipython",
    "version": 3
   },
   "file_extension": ".py",
   "mimetype": "text/x-python",
   "name": "python",
   "nbconvert_exporter": "python",
   "pygments_lexer": "ipython3",
   "version": "3.10.8"
  }
 },
 "nbformat": 4,
 "nbformat_minor": 5
}
