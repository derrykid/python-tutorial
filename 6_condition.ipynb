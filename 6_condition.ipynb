{
 "cells": [
  {
   "cell_type": "markdown",
   "id": "ac0192e8-6189-43f1-ac05-6c395ec7040e",
   "metadata": {},
   "source": [
    "# if 條件語句\n",
    "在 Python 中，if 條件語句用於根據一個或多個條件執行不同的代碼塊。if 條件語句的基本語法如下：\n",
    "\n",
    "```python\n",
    "if condition:\n",
    "    # if-block\n",
    "elif condition:\n",
    "    # elif-block\n",
    "else:\n",
    "    # else-block\n",
    "```\n",
    "\n",
    "舉例：\n",
    "你有18歲，那就可以喝酒：\n",
    "```python\n",
    "if  age > 18:\n",
    "    print('You can drink')\n",
    "```\n",
    "\n",
    "\n",
    "其中，condition 是一個布林表達式，用於判斷是否執行對應的代碼塊。如果 condition 為 True，則執行 if-block；\n",
    "\n",
    "如果 condition 為 False，則跳過 if-block，檢查下一個條件。\n",
    "\n",
    "如果有 elif 條件，則執行對應的 elif-block；如果所有條件都不成立，則執行 else-block。\n",
    "\n",
    "以下是一些示例："
   ]
  },
  {
   "cell_type": "code",
   "execution_count": 6,
   "id": "7a39d3bc-ddaf-42f8-bb0d-558d41df974f",
   "metadata": {},
   "outputs": [
    {
     "name": "stdout",
     "output_type": "stream",
     "text": [
      "x 是正數\n"
     ]
    }
   ],
   "source": [
    "x = 10\n",
    "\n",
    "if x > 0:\n",
    "    print(\"x 是正數\")\n",
    "elif x == 0:\n",
    "    print(\"x 是零\")\n",
    "else:\n",
    "    print(\"x 是負數\")"
   ]
  },
  {
   "cell_type": "markdown",
   "id": "d82b5089-3c6d-44d6-a8c0-0f50a61b0281",
   "metadata": {},
   "source": [
    "## Nested if statement (巢狀)\n",
    "\n",
    "```python\n",
    "#  if 時間 is 早上:\n",
    "#    if 時間 8~9 pm:\n",
    "#        print('Do something')\n",
    "```"
   ]
  },
  {
   "cell_type": "code",
   "execution_count": 7,
   "id": "fcf53512-4496-495b-98a0-54efe00a961e",
   "metadata": {},
   "outputs": [
    {
     "name": "stdout",
     "output_type": "stream",
     "text": [
      "x 是一位數正數\n"
     ]
    }
   ],
   "source": [
    "x = 10\n",
    "\n",
    "if x > 0:\n",
    "    if x < 100:\n",
    "        print(\"x 是一位數正數\")\n",
    "    else:\n",
    "        print(\"x 是三位數或以上正數\")\n",
    "else:\n",
    "    print(\"x 是負數或零\")\n"
   ]
  },
  {
   "cell_type": "markdown",
   "id": "27aabd83-d0dd-4fe9-9c81-ce0c8fd62f5d",
   "metadata": {},
   "source": [
    "## 運用邏輯運算符"
   ]
  },
  {
   "cell_type": "code",
   "execution_count": 8,
   "id": "08fa9ad2-530a-4b5e-a419-2961b9eaa88c",
   "metadata": {},
   "outputs": [
    {
     "name": "stdout",
     "output_type": "stream",
     "text": [
      "x 和 y 都是正數\n"
     ]
    }
   ],
   "source": [
    "x = 10\n",
    "y = 20\n",
    "\n",
    "if x > 0 and y > 0:\n",
    "    print(\"x 和 y 都是正數\")\n",
    "else:\n",
    "    print(\"x 和 y 不都是正數\")\n"
   ]
  },
  {
   "cell_type": "markdown",
   "id": "8e8814d3-64e4-4210-9587-b5ad8651a3ac",
   "metadata": {},
   "source": [
    "## python 簡潔版的 if statement"
   ]
  },
  {
   "cell_type": "code",
   "execution_count": 9,
   "id": "34ab08fa-19cc-4910-a794-265344c8a99a",
   "metadata": {},
   "outputs": [
    {
     "name": "stdout",
     "output_type": "stream",
     "text": [
      "x 是正數\n"
     ]
    }
   ],
   "source": [
    "x = 10\n",
    "\n",
    "result = \"x 是正數\" if x > 0 else \"x 是負數或零\"\n",
    "print(result)"
   ]
  },
  {
   "cell_type": "code",
   "execution_count": 10,
   "id": "a924c463-192a-47ee-bfa9-7ead99f31a5a",
   "metadata": {},
   "outputs": [
    {
     "name": "stdout",
     "output_type": "stream",
     "text": [
      "x 是正數\n"
     ]
    }
   ],
   "source": [
    "# 跟上方一樣\n",
    "if x > 0:\n",
    "    result = \"x 是正數\"\n",
    "else:\n",
    "    result = \"x 是負數或零\"\n",
    "\n",
    "print(result)"
   ]
  },
  {
   "cell_type": "code",
   "execution_count": null,
   "id": "1204a257-c884-4f26-821e-7829a3754954",
   "metadata": {},
   "outputs": [],
   "source": []
  }
 ],
 "metadata": {
  "kernelspec": {
   "display_name": "Python 3 (ipykernel)",
   "language": "python",
   "name": "python3"
  },
  "language_info": {
   "codemirror_mode": {
    "name": "ipython",
    "version": 3
   },
   "file_extension": ".py",
   "mimetype": "text/x-python",
   "name": "python",
   "nbconvert_exporter": "python",
   "pygments_lexer": "ipython3",
   "version": "3.10.8"
  }
 },
 "nbformat": 4,
 "nbformat_minor": 5
}
