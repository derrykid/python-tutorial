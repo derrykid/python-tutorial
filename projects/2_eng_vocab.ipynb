{
 "cells": [
  {
   "cell_type": "markdown",
   "id": "766c79fc-6453-4fa1-a33d-bb13a5094bac",
   "metadata": {},
   "source": [
    "# 讀取檔案，使用隨機亂數： 每日隨機五個英文單字"
   ]
  },
  {
   "cell_type": "code",
   "execution_count": 2,
   "id": "ae213e3f-45fa-4473-81aa-37f5e9e6da18",
   "metadata": {},
   "outputs": [
    {
     "name": "stdout",
     "output_type": "stream",
     "text": [
      "airplane,(plane)【美】飛機[C]\n",
      "\n"
     ]
    }
   ],
   "source": [
    "with open(\"resources/vocab.txt\") as file_in:\n",
    "    vocabs = file_in.readlines()\n",
    "    \n",
    "print(vocabs[15])"
   ]
  },
  {
   "cell_type": "code",
   "execution_count": 3,
   "id": "a997ed88-4463-4a47-bb0a-73bfb12d78c5",
   "metadata": {},
   "outputs": [
    {
     "name": "stdout",
     "output_type": "stream",
     "text": [
      "a little,\"少量的(地),稍許的(地)(後面接不可數名詞)\"\n",
      "\n"
     ]
    }
   ],
   "source": [
    "print(vocabs[2])"
   ]
  },
  {
   "cell_type": "code",
   "execution_count": 21,
   "id": "782e9897-62e0-42fe-a17d-073fb6273fe6",
   "metadata": {},
   "outputs": [
    {
     "data": {
      "text/plain": [
       "'born,\"出生的,誕生的;產生的[F]\"\\n'"
      ]
     },
     "execution_count": 21,
     "metadata": {},
     "output_type": "execute_result"
    }
   ],
   "source": [
    "import random\n",
    "\n",
    "index = random.randint(0, len(vocabs))\n",
    "vocabs[index]"
   ]
  },
  {
   "cell_type": "code",
   "execution_count": 25,
   "id": "73516503-010d-4e35-8f68-a4b3971e20bd",
   "metadata": {},
   "outputs": [
    {
     "name": "stdout",
     "output_type": "stream",
     "text": [
      "handsome,\"(男子)英俊的;(女子)健美的,結實的\"\n",
      "\n",
      "bear,\"n. 熊;似熊的動物; vt. 支持,承受;承擔\"\n",
      "\n",
      "build,建築;造[O1]\n",
      "\n",
      "Mr.,\"(mister之簡稱;用於男士的姓,姓名或職務之前)先生[C]\"\n",
      "\n",
      "only,\"唯一的,僅有的\"\n",
      "\n"
     ]
    }
   ],
   "source": [
    "for i in range(5):\n",
    "    index = random.randint(0, len(vocabs))\n",
    "    print(vocabs[index])"
   ]
  },
  {
   "cell_type": "code",
   "execution_count": 29,
   "id": "e3f109f6-8584-4a18-8864-2287e60d8e73",
   "metadata": {},
   "outputs": [
    {
     "data": {
      "text/plain": [
       "['again', '\"再', '再一次\"\\n']"
      ]
     },
     "execution_count": 29,
     "metadata": {},
     "output_type": "execute_result"
    }
   ],
   "source": [
    "parts = vocabs[10].split(',')\n",
    "parts"
   ]
  },
  {
   "cell_type": "code",
   "execution_count": 30,
   "id": "05a8f4dd-34a4-4736-9df1-8db86ff07856",
   "metadata": {},
   "outputs": [],
   "source": [
    "word = parts[0]\n",
    "meaning = parts[1:]"
   ]
  },
  {
   "cell_type": "code",
   "execution_count": 31,
   "id": "125d97c6-ad12-40ff-b159-52953f37c95b",
   "metadata": {},
   "outputs": [
    {
     "data": {
      "text/plain": [
       "'again'"
      ]
     },
     "execution_count": 31,
     "metadata": {},
     "output_type": "execute_result"
    }
   ],
   "source": [
    "word"
   ]
  },
  {
   "cell_type": "code",
   "execution_count": 32,
   "id": "8d15f77a-3bd3-46d6-9f95-ee221a51751b",
   "metadata": {},
   "outputs": [
    {
     "data": {
      "text/plain": [
       "['\"再', '再一次\"\\n']"
      ]
     },
     "execution_count": 32,
     "metadata": {},
     "output_type": "execute_result"
    }
   ],
   "source": [
    "meaning"
   ]
  },
  {
   "cell_type": "markdown",
   "id": "a1518ce0-a358-43b5-a727-2db8c7236f62",
   "metadata": {},
   "source": [
    "# 整合上面我們一個一個測試出來的內容，寫一個函式，隨機抽取單字"
   ]
  },
  {
   "cell_type": "code",
   "execution_count": 34,
   "id": "cc5da938-47fc-474d-a1d4-9863e7d6d098",
   "metadata": {},
   "outputs": [],
   "source": [
    "def random_vocab():\n",
    "    index = random.randint(0, len(vocabs))\n",
    "    random_vocab_with_meaning = vocabs[index]\n",
    "    parts = random_vocab_with_meaning.split(',')\n",
    "    word = parts[0]\n",
    "    meaning = parts[1:]\n",
    "    \n",
    "    return (word, meaning)"
   ]
  },
  {
   "cell_type": "code",
   "execution_count": 39,
   "id": "f6cfb6a5-d9dc-4ae2-a2f2-71c852c45128",
   "metadata": {},
   "outputs": [
    {
     "data": {
      "text/plain": [
       "'thirty'"
      ]
     },
     "execution_count": 39,
     "metadata": {},
     "output_type": "execute_result"
    }
   ],
   "source": [
    "(word, meaning) = random_vocab()\n",
    "word"
   ]
  },
  {
   "cell_type": "code",
   "execution_count": 41,
   "id": "23a4093e-07b2-4aac-9fd6-d84941d369c4",
   "metadata": {},
   "outputs": [
    {
     "name": "stdout",
     "output_type": "stream",
     "text": [
      "past\n",
      "['過去的;剛過去的\\n']\n",
      "draw\n",
      "['\"劃', '畫', '繪製', '描寫\"\\n']\n",
      "left\n",
      "['\"(leave的過去式和過去分詞)', ' 左方的;左側的[Z][B]\"\\n']\n",
      "cheat\n",
      "['\"欺騙;騙取', '詐取[(+of/out of)]\"\\n']\n",
      "feel\n",
      "['\"摸', '觸;感受[+wh-]\"\\n']\n"
     ]
    }
   ],
   "source": [
    "for i in range(5):\n",
    "    (word, meaning) = random_vocab()\n",
    "    print(word)\n",
    "    print(meaning)"
   ]
  },
  {
   "cell_type": "markdown",
   "id": "bad166af-b059-4c0a-bad0-a47581522b33",
   "metadata": {},
   "source": [
    "## 專案總結\n",
    "\n",
    "這專案可以更好的地方：\n",
    "- 移除 `\\n` 換行符號\n",
    "- 根據用戶輸入的數字，例如3，就給3個單字\n",
    "\n",
    "還有很多可以做更改，但這個專案你學會應用了\"隨機亂數\"，也會讀取檔案、運用函式、使用 `split()`來切開逗號"
   ]
  },
  {
   "cell_type": "code",
   "execution_count": null,
   "id": "26d3787a-cbcc-4956-8485-2bd7dcbc93a9",
   "metadata": {},
   "outputs": [],
   "source": []
  }
 ],
 "metadata": {
  "kernelspec": {
   "display_name": "Python 3 (ipykernel)",
   "language": "python",
   "name": "python3"
  },
  "language_info": {
   "codemirror_mode": {
    "name": "ipython",
    "version": 3
   },
   "file_extension": ".py",
   "mimetype": "text/x-python",
   "name": "python",
   "nbconvert_exporter": "python",
   "pygments_lexer": "ipython3",
   "version": "3.10.8"
  }
 },
 "nbformat": 4,
 "nbformat_minor": 5
}
