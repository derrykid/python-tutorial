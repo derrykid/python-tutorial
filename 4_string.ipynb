{
 "cells": [
  {
   "cell_type": "markdown",
   "id": "c44a1d7c-0701-4dfa-bbf4-7d108ae8a6ca",
   "metadata": {},
   "source": [
    "# 字符串類型\n",
    "\n",
    "在 Python 中，字符串類型 (string) 用來表示文字，可以包含任何字符，包括字母、數字、標點符號和空格等。字符串需要用引號（單引號或雙引號）括起來。\n",
    "\n",
    "# 創建字符串\n",
    "可以使用單引號或雙引號來創建字符串，它們的效果是一樣的。"
   ]
  },
  {
   "cell_type": "code",
   "execution_count": 1,
   "id": "0cc95e58-06c1-4470-b9fe-59133bf92369",
   "metadata": {},
   "outputs": [
    {
     "name": "stdout",
     "output_type": "stream",
     "text": [
      "Hello, world!\n",
      "Hello, world!\n"
     ]
    }
   ],
   "source": [
    "message = 'Hello, world!'\n",
    "print(message)\n",
    "\n",
    "message = \"Hello, world!\"\n",
    "print(message)"
   ]
  },
  {
   "cell_type": "markdown",
   "id": "7cff92df-ed56-4bc6-99ec-1461a8e1e90c",
   "metadata": {},
   "source": [
    "如果字符串中包含引號，可以在引號前加上反斜杠 \\ 來進行轉義。"
   ]
  },
  {
   "cell_type": "code",
   "execution_count": 2,
   "id": "3259e1cf-844b-47e7-ba71-a4eed3e74a6e",
   "metadata": {},
   "outputs": [
    {
     "name": "stdout",
     "output_type": "stream",
     "text": [
      "She said, \"Hello!\"\n"
     ]
    }
   ],
   "source": [
    "message = \"She said, \\\"Hello!\\\"\"\n",
    "print(message)"
   ]
  },
  {
   "cell_type": "markdown",
   "id": "068a709c-d8d5-4078-a535-424dc6835d9f",
   "metadata": {},
   "source": [
    "# 字符串的操作\n",
    "## 字符串的加法和乘法\n",
    "可以使用加號 + 將兩個字符串連接起來，使用乘號 * 將一個字符串重複多次。"
   ]
  },
  {
   "cell_type": "code",
   "execution_count": 3,
   "id": "efdbc5db-838a-4948-aa50-196df0b1d4bf",
   "metadata": {},
   "outputs": [
    {
     "name": "stdout",
     "output_type": "stream",
     "text": [
      "Hello, Alice!\n",
      "----------------------------------------\n"
     ]
    }
   ],
   "source": [
    "greeting = \"Hello, \"\n",
    "name = \"Alice\"\n",
    "message = greeting + name + \"!\"\n",
    "print(message)\n",
    "\n",
    "line = \"-\" * 40\n",
    "print(line)"
   ]
  },
  {
   "cell_type": "markdown",
   "id": "c7758544-a26a-428f-8850-96c82fa5f6b0",
   "metadata": {},
   "source": [
    "## 字符串的索引和切片\n",
    "可以使用方括號 [] 對字符串進行索引和切片。字符串的索引從 0 開始，負數索引從最後一個字符開始往回數。"
   ]
  },
  {
   "cell_type": "code",
   "execution_count": 4,
   "id": "e996b671-37ab-4c87-aa51-862600ee0278",
   "metadata": {},
   "outputs": [
    {
     "name": "stdout",
     "output_type": "stream",
     "text": [
      "H\n",
      "o\n"
     ]
    }
   ],
   "source": [
    "s = \"Hello\"\n",
    "print(s[0])    # H\n",
    "print(s[-1])   # o"
   ]
  },
  {
   "cell_type": "markdown",
   "id": "11bdcd54-8a4d-4d75-bf20-5545d599f7b1",
   "metadata": {},
   "source": [
    "使用冒號 : 可以對字符串進行切片操作，可以指定起始位置、結束位置和步長。注意，結束位置是不包含在切片內的。"
   ]
  },
  {
   "cell_type": "code",
   "execution_count": 5,
   "id": "10e0ea16-de9c-4f50-a0e4-3090b45d4d17",
   "metadata": {},
   "outputs": [
    {
     "name": "stdout",
     "output_type": "stream",
     "text": [
      "Hello\n",
      "world!\n",
      "Hello\n",
      "world\n",
      "Hlo ol!\n"
     ]
    }
   ],
   "source": [
    "s = \"Hello, world!\"\n",
    "print(s[0:5])       # Hello\n",
    "print(s[7:])        # world!\n",
    "print(s[:5])        # Hello\n",
    "print(s[-6:-1])     # world\n",
    "print(s[::2])       # Hlo ol!"
   ]
  },
  {
   "cell_type": "markdown",
   "id": "eb66b399-81e1-4b66-8a13-2801a95e06cc",
   "metadata": {},
   "source": [
    "# 字符串的方法\n",
    "Python 中的字符串還有很多內置的方法，可以對字符串進行各種操作，例如查找、替換、分割等。"
   ]
  },
  {
   "cell_type": "code",
   "execution_count": 6,
   "id": "4b804512-ec51-48b6-8f6f-2cffa964844b",
   "metadata": {},
   "outputs": [
    {
     "name": "stdout",
     "output_type": "stream",
     "text": [
      "7\n",
      "Hello, Python!\n",
      "['1', '2', '3', '4', '5']\n",
      "HELLO, WORLD!\n",
      "hello, world!\n"
     ]
    }
   ],
   "source": [
    "s = \"Hello, world!\"\n",
    "\n",
    "# 查找子字符串\n",
    "print(s.find(\"world\"))    # 7\n",
    "\n",
    "# 替換子字符串\n",
    "s = s.replace(\"world\", \"Python\")\n",
    "print(s)                  # Hello, Python!\n",
    "\n",
    "# 分割字符串\n",
    "s = \"1,2,3,4,5\"\n",
    "numbers = s.split(\",\")\n",
    "print(numbers)            # ['1', '2', '3', '4', '5']\n",
    "\n",
    "# 將字符串轉換為大寫或小寫\n",
    "s = \"Hello, world!\"\n",
    "print(s.upper())          # HELLO, WORLD!\n",
    "print(s.lower())          # hello, world!"
   ]
  },
  {
   "cell_type": "code",
   "execution_count": null,
   "id": "f6faba17-897b-4c1b-8908-9ee895542f1d",
   "metadata": {},
   "outputs": [],
   "source": []
  }
 ],
 "metadata": {
  "kernelspec": {
   "display_name": "Python 3 (ipykernel)",
   "language": "python",
   "name": "python3"
  },
  "language_info": {
   "codemirror_mode": {
    "name": "ipython",
    "version": 3
   },
   "file_extension": ".py",
   "mimetype": "text/x-python",
   "name": "python",
   "nbconvert_exporter": "python",
   "pygments_lexer": "ipython3",
   "version": "3.10.8"
  }
 },
 "nbformat": 4,
 "nbformat_minor": 5
}
